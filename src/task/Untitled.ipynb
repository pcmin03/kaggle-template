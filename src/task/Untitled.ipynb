{
 "cells": [
  {
   "cell_type": "code",
   "execution_count": 1,
   "id": "da3eb85d-0b12-4a2e-a673-036965377bd0",
   "metadata": {},
   "outputs": [
    {
     "name": "stdout",
     "output_type": "stream",
     "text": [
      "Defaulting to user installation because normal site-packages is not writeable\n",
      "Collecting python-box\n",
      "  Downloading python_box-5.4.1-py3-none-any.whl (21 kB)\n",
      "Requirement already satisfied: grad-cam in /work/.local/lib/python3.6/site-packages (1.2.9)\n",
      "Requirement already satisfied: ttach in /work/.local/lib/python3.6/site-packages (0.0.3)\n",
      "Installing collected packages: python-box\n",
      "Successfully installed python-box-5.4.1\n",
      "\u001b[33mWARNING: You are using pip version 20.2.4; however, version 21.3.1 is available.\n",
      "You should consider upgrading via the '/usr/bin/python3 -m pip install --upgrade pip' command.\u001b[0m\n"
     ]
    }
   ],
   "source": [
    "!pip install python-box grad-cam ttach"
   ]
  },
  {
   "cell_type": "code",
   "execution_count": 2,
   "id": "2878dadd-50e4-4205-8b0b-9d624797279b",
   "metadata": {},
   "outputs": [],
   "source": [
    "import os\n",
    "import warnings\n",
    "from pprint import pprint\n",
    "from glob import glob\n",
    "from tqdm import tqdm\n",
    "\n",
    "import torch\n",
    "import torch.optim as optim\n",
    "import torch.nn as nn\n",
    "import torch.nn.functional as F\n",
    "import numpy as np\n",
    "import pandas as pd\n",
    "import matplotlib.pyplot as plt\n",
    "import torchvision.transforms as T\n",
    "from box import Box\n",
    "from timm import create_model\n",
    "from sklearn.model_selection import StratifiedKFold\n",
    "from torchvision.io import read_image\n",
    "from torch.utils.data import DataLoader, Dataset\n",
    "from pytorch_grad_cam import GradCAMPlusPlus\n",
    "from pytorch_grad_cam.utils.image import show_cam_on_image"
   ]
  },
  {
   "cell_type": "code",
   "execution_count": 3,
   "id": "a6956a8d-8418-474a-a381-fa37d50f3bed",
   "metadata": {},
   "outputs": [],
   "source": [
    "config = {'seed': 2021,\n",
    "          'root': '/kaggle/input/petfinder-pawpularity-score/', \n",
    "          'n_splits': 5,\n",
    "          'epoch': 20,\n",
    "          'trainer': {\n",
    "              'gpus': 1,\n",
    "              'accumulate_grad_batches': 1,\n",
    "              'progress_bar_refresh_rate': 1,\n",
    "              'fast_dev_run': False,\n",
    "              'num_sanity_val_steps': 0,\n",
    "              'resume_from_checkpoint': None,\n",
    "          },\n",
    "          'transform':{\n",
    "              'name': 'get_default_transforms',\n",
    "              'image_size': 224\n",
    "          },\n",
    "          'train_loader':{\n",
    "              'batch_size': 64,\n",
    "              'shuffle': True,\n",
    "              'num_workers': 4,\n",
    "              'pin_memory': False,\n",
    "              'drop_last': True,\n",
    "          },\n",
    "          'val_loader': {\n",
    "              'batch_size': 64,\n",
    "              'shuffle': False,\n",
    "              'num_workers': 4,\n",
    "              'pin_memory': False,\n",
    "              'drop_last': False\n",
    "         },\n",
    "          'model':{\n",
    "              'name': 'swin_tiny_patch4_window7_224',\n",
    "              'output_dim': 1\n",
    "          },\n",
    "          'optimizer':{\n",
    "              'name': 'optim.AdamW',\n",
    "              'params':{\n",
    "                  'lr': 1e-5\n",
    "              },\n",
    "          },\n",
    "          'scheduler':{\n",
    "              'name': 'optim.lr_scheduler.CosineAnnealingWarmRestarts',\n",
    "              'params':{\n",
    "                  'T_0': 20,\n",
    "                  'eta_min': 1e-4,\n",
    "              }\n",
    "          },\n",
    "          'loss': 'nn.BCEWithLogitsLoss',\n",
    "}\n",
    "\n",
    "config = Box(config)"
   ]
  },
  {
   "cell_type": "code",
   "execution_count": 5,
   "id": "5e1f7e57-119c-4b7f-82af-b92b6c84ad93",
   "metadata": {},
   "outputs": [],
   "source": [
    "class PetfinderDataset(Dataset):\n",
    "    def __init__(self, df, image_size=224):\n",
    "        self._X = df[\"Id\"].values\n",
    "        self._y = None\n",
    "        if \"Pawpularity\" in df.keys():\n",
    "            self._y = df[\"Pawpularity\"].values\n",
    "        self._transform = T.Resize([image_size, image_size])\n",
    "\n",
    "    def __len__(self):\n",
    "        return len(self._X)\n",
    "\n",
    "    def __getitem__(self, idx):\n",
    "        image_path = self._X[idx]\n",
    "        image = read_image(image_path)\n",
    "        image = self._transform(image)\n",
    "        if self._y is not None:\n",
    "            label = self._y[idx]\n",
    "            return image, label\n",
    "        return image\n"
   ]
  },
  {
   "cell_type": "code",
   "execution_count": 6,
   "id": "2b016251-99f3-467c-9f4c-f26d3ea85880",
   "metadata": {},
   "outputs": [],
   "source": [
    "IMAGENET_MEAN = [0.485, 0.456, 0.406]  # RGB\n",
    "IMAGENET_STD = [0.229, 0.224, 0.225]  # RGB\n",
    "\n",
    "\n",
    "def get_default_transforms():\n",
    "    transform = {\n",
    "        \"train\": T.Compose(\n",
    "            [\n",
    "                T.RandomHorizontalFlip(),\n",
    "                T.RandomVerticalFlip(),\n",
    "                T.RandomAffine(15, translate=(0.1, 0.1), scale=(0.9, 1.1)),\n",
    "                T.ColorJitter(brightness=0.1, contrast=0.1, saturation=0.1),\n",
    "                T.ConvertImageDtype(torch.float),\n",
    "                T.Normalize(mean=IMAGENET_MEAN, std=IMAGENET_STD),\n",
    "            ]\n",
    "        ),\n",
    "        \"val\": T.Compose(\n",
    "            [\n",
    "                T.ConvertImageDtype(torch.float),\n",
    "                T.Normalize(mean=IMAGENET_MEAN, std=IMAGENET_STD),\n",
    "            ]\n",
    "        ),\n",
    "    }\n",
    "    return transform\n"
   ]
  },
  {
   "cell_type": "code",
   "execution_count": 7,
   "id": "188380d2-0311-4f63-b42c-02649763b0e2",
   "metadata": {},
   "outputs": [
    {
     "ename": "NameError",
     "evalue": "name 'df' is not defined",
     "output_type": "error",
     "traceback": [
      "\u001b[0;31m---------------------------------------------------------------------------\u001b[0m",
      "\u001b[0;31mNameError\u001b[0m                                 Traceback (most recent call last)",
      "\u001b[0;32m<ipython-input-7-a3da0faef8e0>\u001b[0m in \u001b[0;36m<module>\u001b[0;34m\u001b[0m\n\u001b[1;32m      3\u001b[0m )\n\u001b[1;32m      4\u001b[0m \u001b[0;34m\u001b[0m\u001b[0m\n\u001b[0;32m----> 5\u001b[0;31m \u001b[0;32mfor\u001b[0m \u001b[0mfold\u001b[0m\u001b[0;34m,\u001b[0m \u001b[0;34m(\u001b[0m\u001b[0mtrain_idx\u001b[0m\u001b[0;34m,\u001b[0m \u001b[0mval_idx\u001b[0m\u001b[0;34m)\u001b[0m \u001b[0;32min\u001b[0m \u001b[0menumerate\u001b[0m\u001b[0;34m(\u001b[0m\u001b[0mskf\u001b[0m\u001b[0;34m.\u001b[0m\u001b[0msplit\u001b[0m\u001b[0;34m(\u001b[0m\u001b[0mdf\u001b[0m\u001b[0;34m[\u001b[0m\u001b[0;34m\"Id\"\u001b[0m\u001b[0;34m]\u001b[0m\u001b[0;34m,\u001b[0m \u001b[0mdf\u001b[0m\u001b[0;34m[\u001b[0m\u001b[0;34m\"Pawpularity\"\u001b[0m\u001b[0;34m]\u001b[0m\u001b[0;34m)\u001b[0m\u001b[0;34m)\u001b[0m\u001b[0;34m:\u001b[0m\u001b[0;34m\u001b[0m\u001b[0;34m\u001b[0m\u001b[0m\n\u001b[0m\u001b[1;32m      6\u001b[0m     \u001b[0mtrain_df\u001b[0m \u001b[0;34m=\u001b[0m \u001b[0mdf\u001b[0m\u001b[0;34m.\u001b[0m\u001b[0mloc\u001b[0m\u001b[0;34m[\u001b[0m\u001b[0mtrain_idx\u001b[0m\u001b[0;34m]\u001b[0m\u001b[0;34m.\u001b[0m\u001b[0mreset_index\u001b[0m\u001b[0;34m(\u001b[0m\u001b[0mdrop\u001b[0m\u001b[0;34m=\u001b[0m\u001b[0;32mTrue\u001b[0m\u001b[0;34m)\u001b[0m\u001b[0;34m\u001b[0m\u001b[0;34m\u001b[0m\u001b[0m\n\u001b[1;32m      7\u001b[0m     \u001b[0mval_df\u001b[0m \u001b[0;34m=\u001b[0m \u001b[0mdf\u001b[0m\u001b[0;34m.\u001b[0m\u001b[0mloc\u001b[0m\u001b[0;34m[\u001b[0m\u001b[0mval_idx\u001b[0m\u001b[0;34m]\u001b[0m\u001b[0;34m.\u001b[0m\u001b[0mreset_index\u001b[0m\u001b[0;34m(\u001b[0m\u001b[0mdrop\u001b[0m\u001b[0;34m=\u001b[0m\u001b[0;32mTrue\u001b[0m\u001b[0;34m)\u001b[0m\u001b[0;34m\u001b[0m\u001b[0;34m\u001b[0m\u001b[0m\n",
      "\u001b[0;31mNameError\u001b[0m: name 'df' is not defined"
     ]
    }
   ],
   "source": [
    "skf = StratifiedKFold(\n",
    "    n_splits=config.n_splits, shuffle=True, random_state=config.seed\n",
    ")\n",
    "\n",
    "for fold, (train_idx, val_idx) in enumerate(skf.split(df[\"Id\"], df[\"Pawpularity\"])):\n",
    "    train_df = df.loc[train_idx].reset_index(drop=True)\n",
    "    val_df = df.loc[val_idx].reset_index(drop=True)\n",
    "    datamodule = PetfinderDataModule(train_df, val_df, config)\n",
    "    model = Model(config)\n",
    "    earystopping = EarlyStopping(monitor=\"val_loss\")\n",
    "    lr_monitor = callbacks.LearningRateMonitor()\n",
    "    loss_checkpoint = callbacks.ModelCheckpoint(\n",
    "        filename=\"best_loss\",\n",
    "        monitor=\"val_loss\",\n",
    "        save_top_k=1,\n",
    "        mode=\"min\",\n",
    "        save_last=False,\n",
    "    )\n",
    "    logger = TensorBoardLogger(config.model.name)\n",
    "    \n",
    "    trainer = pl.Trainer(\n",
    "        logger=logger,\n",
    "        max_epochs=config.epoch,\n",
    "        callbacks=[lr_monitor, loss_checkpoint, earystopping],\n",
    "        **config.trainer,\n",
    "    )\n",
    "    trainer.fit(model, datamodule=datamodule)"
   ]
  },
  {
   "cell_type": "code",
   "execution_count": null,
   "id": "84470cd8-e37e-4f75-83ad-36e59e5ac620",
   "metadata": {},
   "outputs": [],
   "source": [
    "torch.autograd.set_detect_anomaly(True)\n",
    "seed_everything(config.seed)\n",
    "\n",
    "df = pd.read_csv(os.path.join(config.root, \"train.csv\"))\n",
    "df[\"Id\"] = df[\"Id\"].apply(lambda x: os.path.join(config.root, \"train\", x + \".jpg\"))"
   ]
  }
 ],
 "metadata": {
  "kernelspec": {
   "display_name": "Python 3",
   "language": "python",
   "name": "python3"
  },
  "language_info": {
   "codemirror_mode": {
    "name": "ipython",
    "version": 3
   },
   "file_extension": ".py",
   "mimetype": "text/x-python",
   "name": "python",
   "nbconvert_exporter": "python",
   "pygments_lexer": "ipython3",
   "version": "3.6.9"
  }
 },
 "nbformat": 4,
 "nbformat_minor": 5
}
